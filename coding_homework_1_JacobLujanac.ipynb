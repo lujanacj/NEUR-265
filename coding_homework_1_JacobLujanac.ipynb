{
  "nbformat": 4,
  "nbformat_minor": 0,
  "metadata": {
    "colab": {
      "provenance": [],
      "include_colab_link": true
    },
    "kernelspec": {
      "name": "python3",
      "display_name": "Python 3"
    },
    "language_info": {
      "name": "python"
    }
  },
  "cells": [
    {
      "cell_type": "markdown",
      "metadata": {
        "id": "view-in-github",
        "colab_type": "text"
      },
      "source": [
        "<a href=\"https://colab.research.google.com/github/lujanacj/NEUR-265/blob/main/coding_homework_1_JacobLujanac.ipynb\" target=\"_parent\"><img src=\"https://colab.research.google.com/assets/colab-badge.svg\" alt=\"Open In Colab\"/></a>"
      ]
    },
    {
      "cell_type": "markdown",
      "source": [
        "# Coding Homework #1\n",
        "\n",
        "**Instructions** (Note: it is very important you follow these instructions in order!)\n",
        "\n",
        "1. Run the first *Code Cell* below.\n",
        "\n",
        "2. Make a *Markdown Cell* that contains the following information:\n",
        "  * Your name (small header)\n",
        "  * The name of this class (italicized)\n",
        "  * The date (bolded)\n",
        "\n",
        "3. **Important!**: For each *Code Cell* that you create, make at least one line of code with a `#` in front of it that describes what your code does.\n",
        "\n",
        "4. Make a *Code Cell* that turns `v_rest_sst.csv` into a `Pandas DataFrame` called `pandas_data1`, and `v_rest_pvalb.csv` into a `Pandas DataFrame` called `pandas_data2`. Recall that we covered how to import `.csv` files as `Pandas DataFrames` in our in-class coding activity on January 31st.\n",
        "\n",
        "5. Make a *Code Cell* that converts `pandas_data1` into a `list` variable called `data1`, and converts `pandas_data2` into a `list` variable called `data2`. The following syntax is an example of how to do this:\n",
        "\n",
        "\n",
        "```\n",
        "data1 = pandas_data1.values.tolist()\n",
        "```\n",
        "\n",
        "6. When you convert a `Pandas DataFrame` into a `list`, it brackets each individual element - we don't want that! To get around this issue, make a *Code Cell* that flattens `data1` and `data2` using the `numpy.squeeze()` function. Your first *Code Cell* imported the `NumPy` module as `np`, so we can use the following code to flatten `data1`:\n",
        "\n",
        "\n",
        "```\n",
        "data1 = np.squeeze(data1)\n",
        "```\n",
        "&nbsp;&nbsp;&nbsp;&nbsp;&nbsp;&nbsp;&nbsp;&nbsp;&nbsp;&nbsp;Repeat this for `data2`.\n",
        "\n",
        "7. Make a *Code Cell* that prints the length of `data1`.\n",
        "\n",
        "8. Make a *Code Cell* that prints the 3rd, 4th, 5th, and 6th elements of `data2`.\n",
        "\n",
        "9. Make a *Code Cell* that prints the second-to-last and last elements of `data1` (use negative indexing).\n",
        "\n",
        "10. Make a *Code Cell* that prints the `type` of `data2` by using the `type` function.\n",
        "\n",
        "11. The first *Code Cell* you ran imports a module called `matplotlib`. In a new *Code Cell*, use `matplotlib` to make a histogram of `data1`. You can use the syntax `plt.hist()` to do this (remember that the variable you are applying the function to goes inside of the parentheses).\n",
        "\n",
        "12. In a new *Code Cell*, re-make your histogram and use the `plt.xlabel()` and `plt.ylabel()` functions to label your axes.\n",
        "\n",
        "13. In a new *Code Cell*, follow the instructions in steps 11 and 12 to make another histogram with axis labels for `data2`.\n",
        "\n",
        "14. In a new *Markdown Cell*, write a brief description of any differences that you observe between your two histograms. Does one group of cells seem to have a higher/lower resting membrane potential than the other group of cells?\n",
        "\n",
        "15. In a new *Code Cell*, create a new variable called `data3`. Let `data3` be a list containing both `data1` and `data2`.\n",
        "\n",
        "16. Make a *Code Cell* that prints the last element of `data2`. You must index `data3` to do this.\n",
        "\n",
        "17. Save a copy of this notebook to your GitHub repo with the title \"coding_homework_1.pynb\"."
      ],
      "metadata": {
        "id": "R8xCV2iP1KZ_"
      }
    },
    {
      "cell_type": "code",
      "source": [
        "# Import matplotlib\n",
        "\n",
        "from matplotlib import pyplot as plt\n",
        "\n",
        "import pandas as pd\n",
        "\n",
        "import numpy as np"
      ],
      "metadata": {
        "id": "48IPWJIt59-Y"
      },
      "execution_count": 32,
      "outputs": []
    },
    {
      "cell_type": "markdown",
      "source": [
        "### Jacob Lujanac\n",
        "*NEUR 265*\n",
        "\n",
        "**2/10/24**"
      ],
      "metadata": {
        "id": "I0HE1Tcq8Ae2"
      }
    },
    {
      "cell_type": "code",
      "source": [
        "#4. Converting .csv files into Pandas DataFrames\n",
        "\n",
        "url1 = 'https://raw.githubusercontent.com/hallockh/neur_265/b398c90e30efcabf56f6d1122ee5d338ec21ce93/data/v_rest_sst.csv'\n",
        "url2= 'https://raw.githubusercontent.com/lujanacj/NEUR-265/main/v_rest_pvalb.csv'\n",
        "\n",
        "pandas_data1 = pd.read_csv(url1)\n",
        "pandas_data2 = pd.read_csv(url2)"
      ],
      "metadata": {
        "id": "I0DuT0R3GF8E"
      },
      "execution_count": 33,
      "outputs": []
    },
    {
      "cell_type": "code",
      "source": [
        "#5. Convertign Pandas DataFrams to lists\n",
        "data1 = pandas_data1.values.tolist()\n",
        "data2 = pandas_data2.values.tolist()\n"
      ],
      "metadata": {
        "id": "d-G2zGJje8o8"
      },
      "execution_count": 34,
      "outputs": []
    },
    {
      "cell_type": "code",
      "source": [
        "#6.  Flatenning data\n",
        "data1 = np.squeeze(data1)\n",
        "data2 = np.squeeze(data2)"
      ],
      "metadata": {
        "id": "Vp6CAfpaf5Hf"
      },
      "execution_count": 35,
      "outputs": []
    },
    {
      "cell_type": "code",
      "source": [
        "#7. rinting Length of data1\n",
        "print(data1.size)"
      ],
      "metadata": {
        "colab": {
          "base_uri": "https://localhost:8080/"
        },
        "id": "SM6zqx04gE51",
        "outputId": "531278f7-c7fb-4b61-d865-fa0e93c84a55"
      },
      "execution_count": 36,
      "outputs": [
        {
          "output_type": "stream",
          "name": "stdout",
          "text": [
            "499\n"
          ]
        }
      ]
    },
    {
      "cell_type": "code",
      "source": [
        "#8. Printing elements 3 to 6 of data2\n",
        "print(data2[3:7])"
      ],
      "metadata": {
        "colab": {
          "base_uri": "https://localhost:8080/"
        },
        "id": "aVYOB0GohDDZ",
        "outputId": "f56d554e-3a0b-44d3-e0d8-9a369582f011"
      },
      "execution_count": 37,
      "outputs": [
        {
          "output_type": "stream",
          "name": "stdout",
          "text": [
            "[-63.09300825 -75.5469301  -66.51929994 -71.50055833]\n"
          ]
        }
      ]
    },
    {
      "cell_type": "code",
      "source": [
        "#9. Printing last and second to last elements of data 1\n",
        "print(data1[-3:-1])"
      ],
      "metadata": {
        "colab": {
          "base_uri": "https://localhost:8080/"
        },
        "id": "1UdB-jZsho_3",
        "outputId": "449271a4-b791-461d-d612-42c308e81222"
      },
      "execution_count": 38,
      "outputs": [
        {
          "output_type": "stream",
          "name": "stdout",
          "text": [
            "[-69.71809673 -65.59535842]\n"
          ]
        }
      ]
    },
    {
      "cell_type": "code",
      "source": [
        "#10. Printing the type of data2\n",
        "print(data2.dtype)"
      ],
      "metadata": {
        "colab": {
          "base_uri": "https://localhost:8080/"
        },
        "id": "IA1hlKJRh7qy",
        "outputId": "99ea2778-d58c-42cb-e7d8-aa57f56b9269"
      },
      "execution_count": 39,
      "outputs": [
        {
          "output_type": "stream",
          "name": "stdout",
          "text": [
            "float64\n"
          ]
        }
      ]
    },
    {
      "cell_type": "code",
      "source": [
        "#11. Histogram for data1 (Sst)\n",
        "plt.hist(data1)"
      ],
      "metadata": {
        "colab": {
          "base_uri": "https://localhost:8080/",
          "height": 517
        },
        "id": "2jwdJGhXkYIB",
        "outputId": "1daf6e65-aa07-4498-e2f3-5efe827f2779"
      },
      "execution_count": 40,
      "outputs": [
        {
          "output_type": "execute_result",
          "data": {
            "text/plain": [
              "(array([  3.,   4.,  23.,  77., 125., 107.,  90.,  42.,  21.,   7.]),\n",
              " array([-88.07835484, -84.19758717, -80.31681949, -76.43605182,\n",
              "        -72.55528415, -68.67451648, -64.7937488 , -60.91298113,\n",
              "        -57.03221346, -53.15144578, -49.27067811]),\n",
              " <BarContainer object of 10 artists>)"
            ]
          },
          "metadata": {},
          "execution_count": 40
        },
        {
          "output_type": "display_data",
          "data": {
            "text/plain": [
              "<Figure size 640x480 with 1 Axes>"
            ],
            "image/png": "[encoded data removed]"
          },
          "metadata": {}
        }
      ]
    },
    {
      "cell_type": "code",
      "source": [
        "#12. Remade histogram for data1 with axis labels\n",
        "plt.hist(data1)\n",
        "plt.xlabel('Resting Membrane Potential (V)')\n",
        "plt.ylabel('Number of Data Points')"
      ],
      "metadata": {
        "colab": {
          "base_uri": "https://localhost:8080/",
          "height": 466
        },
        "id": "LhnrRV4Mkvho",
        "outputId": "20f8404c-87cf-4f18-c083-1d9cd2668693"
      },
      "execution_count": 41,
      "outputs": [
        {
          "output_type": "execute_result",
          "data": {
            "text/plain": [
              "Text(0, 0.5, 'Number of Data Points')"
            ]
          },
          "metadata": {},
          "execution_count": 41
        },
        {
          "output_type": "display_data",
          "data": {
            "text/plain": [
              "<Figure size 640x480 with 1 Axes>"
            ],
            "image/png": "[encoded data removed]"
          },
          "metadata": {}
        }
      ]
    },
    {
      "cell_type": "code",
      "source": [
        "#13. Histogram for data 2 (Pvalb)\n",
        "plt.hist(data2)\n",
        "plt.xlabel('Resting Membrane Potential (V)')\n",
        "plt.ylabel('Number of Data Points')"
      ],
      "metadata": {
        "colab": {
          "base_uri": "https://localhost:8080/",
          "height": 466
        },
        "id": "Xk15Ac56mZjL",
        "outputId": "41d0c705-8480-4f8f-a945-2b7a7d6af9dc"
      },
      "execution_count": 42,
      "outputs": [
        {
          "output_type": "execute_result",
          "data": {
            "text/plain": [
              "Text(0, 0.5, 'Number of Data Points')"
            ]
          },
          "metadata": {},
          "execution_count": 42
        },
        {
          "output_type": "display_data",
          "data": {
            "text/plain": [
              "<Figure size 640x480 with 1 Axes>"
            ],
            "image/png": "[encoded data removed]"
          },
          "metadata": {}
        }
      ]
    },
    {
      "cell_type": "markdown",
      "source": [
        "##14. Histogram Differences\n",
        "\n",
        "While the range of both datasets are similar in magnitude with similar upper and lower bounds, the data for Pvalb has a slightly smaller range as it ranges from ~-85 to ~-45, where Sst ranges from ~-87 to ~-45. Sst appears to have a higher resting membrane potential as it has a large density of high peaks, skewed towards the right side of the graph.\n",
        "\n",
        "\n",
        "\n",
        "\n",
        "\n",
        "\n",
        "\n"
      ],
      "metadata": {
        "id": "kEf6HTt_msBe"
      }
    },
    {
      "cell_type": "code",
      "source": [
        "#15. Combining data1 and data2\n",
        "data3 = np.hstack([data1,data2])"
      ],
      "metadata": {
        "id": "wO2QJfqppeRi"
      },
      "execution_count": 50,
      "outputs": []
    },
    {
      "cell_type": "code",
      "source": [
        "#16. Printing last element of data2\n",
        "print(data3[-1])"
      ],
      "metadata": {
        "colab": {
          "base_uri": "https://localhost:8080/"
        },
        "id": "qpoQLTDMp9ga",
        "outputId": "634ec08a-0153-44e3-a402-7cc4cbd0f893"
      },
      "execution_count": 53,
      "outputs": [
        {
          "output_type": "stream",
          "name": "stdout",
          "text": [
            "-54.08427915\n"
          ]
        }
      ]
    }
  ]
}