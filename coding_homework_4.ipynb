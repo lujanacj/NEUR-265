{
  "nbformat": 4,
  "nbformat_minor": 0,
  "metadata": {
    "colab": {
      "provenance": [],
      "history_visible": true,
      "include_colab_link": true
    },
    "kernelspec": {
      "name": "python3",
      "display_name": "Python 3"
    },
    "language_info": {
      "name": "python"
    }
  },
  "cells": [
    {
      "cell_type": "markdown",
      "metadata": {
        "id": "view-in-github",
        "colab_type": "text"
      },
      "source": [
        "<a href=\"https://colab.research.google.com/github/lujanacj/NEUR-265/blob/main/coding_homework_4.ipynb\" target=\"_parent\"><img src=\"https://colab.research.google.com/assets/colab-badge.svg\" alt=\"Open In Colab\"/></a>"
      ]
    },
    {
      "cell_type": "markdown",
      "source": [],
      "metadata": {
        "id": "Xl9gPIY9ba_e"
      }
    },
    {
      "cell_type": "markdown",
      "source": [
        "# Coding Homework #4\n",
        "\n",
        "**Instructions**\n",
        "\n",
        "1. Make a *Markdown Cell* that contains the following information:\n",
        "- Your name (small header)\n",
        "- The name of this class (italicized)\n",
        "- The date (bolded)\n",
        "\n",
        "2. Create a *Code Cell* that imports relevant modules - specifically, <code>pandas as pd</code>, <code>matplotlib.pyplot as plt</code>, and <code>scipy.stats as stats</code>.\n",
        "\n",
        "3. For this assignment, you'll be using the <code>patch_seq_expanded.csv</code> file located in our class GitHub repo. Create a *Code Cell* that loads this file in as a <code>Pandas dataFrame</code> called <code>patch_seq</code>.\n",
        "\n",
        "4. In a new *Code Cell*, using the <code>df.plot</code> method from the <code>pandas</code> module, make a bar graph that displays the value counts (how many observations) from the \"Marker\" column of your <code>patch_seq</code> variable. Label your x and y-axes.\n",
        "\n",
        "5. In a new *Code Cell*, repeat step 4, but make a pie chart instead of a bar graph.\n",
        "\n",
        "6. In a new *Code Cell*, use a <code>for</code> loop to make a scatter plot of the \"ISI\" (on the x-axis) and \"Fast_Trough\" (on the y-axis) values in your <code>patch_seq</code> dataframe. Your loop should make data points from \"Sst\" neurons <font color = 'red'>red</font>, and data points from \"Pvalb\" neurons <font color = 'blue'>blue</font>.\n",
        "\n",
        "7. In a new *Code Cell*, create a <code>function</code> called <code>patchScatter()</code> that will output the scatter plot created in step 6 when you call it. Don't forget to tell it to show your scatter plot!\n",
        "\n",
        "8. In a new *Code Cell*, return the mean, standard deviation, and range of the \"Fast_Trough\" column for \"Sst\" neurons and \"Pvalb\" neurons. You can do this with the <code>pandas</code> method <code>describe</code>, like so:\n",
        "\n",
        "<code>patch_seq.groupby('Marker')['Fast_Trough'].describe()</code>\n",
        "\n",
        "9. In a new *Markdown Cell*, describe the difference in means between \"Sst\" neurons and \"Pvalb\" neurons. Which group has a more negative undershoot following an action potential?\n",
        "\n",
        "10. In a new *Code Cell*, return the skewness of the \"Fast_Trough\" column for \"Sst\" neurons and \"Pvalb\" neurons. You can do this with the <code>pandas</code> method <code>skew</code> (follow the syntax in step 8 to apply this method to <code>patch_seq</code>).\n",
        "\n",
        "11. In a new *Markdown Cell*, interpret the results of your skewness test. Generally, values >0.5, or <-0.5, indicate a skewed distribution, while values between -0.5 and 0.5 indicate a normal distribution.\n",
        "\n",
        "12. In a new *Code Cell*, repeat step 10 for the \"ISI\" column of <code>patch_seq</code>.\n",
        "\n",
        "13. In a new *Markdown Cell*, repeat step 11 for the \"ISI\" column of <code>patch_seq</code>.\n",
        "\n",
        "14. Finally, in a new *Code Cell*, let's perform a t-test to see if our \"Fast_Trough\" and \"ISI\" values differ between \"Sst\" and \"Pvalb\" neurons. To do this for our \"Fast_Trough\" values, we should first isolate each group and make each of them into a separate variable. An example of how to do this for \"Sst\" neurons is below:\n",
        "\n",
        "<code>sst_neurons = patch_seq[patch_seq['Marker']=='Sst']</code>\n",
        "\n",
        "Use the same code to create another variable called <code>pvalb_neurons</code>. Once you've made your two variables, perform an independent-samples t-test to compare \"Fast_Trough\" values between the two groups:\n",
        "\n",
        "<code>stats.ttest_ind(sst_neurons['Fast_Trough'], pvalb_neurons['Fast_Trough'])</code>.\n",
        "\n",
        "15. In a *Markdown Cell*, describe the results of your t-test. Does the undershoot voltage significantly differ betwen the two groups?\n",
        "\n",
        "16. In a new *Code Cell*, repeat step 14 for \"ISI\". You won't need to create new <code>sst_neurons</code> and <code>pvalb_neurons</code> variables - you'll just need to run a new t-test.\n",
        "\n",
        "17. In a new *Markdown Cell*, repeat step 15 for the results of your new t-test.\n",
        "\n",
        "18. Make sure to put a <code>#</code> in each *Code Cell* to describe what it does.\n",
        "\n",
        "19. Save a copy of this notebook to your GitHub repo with the title <code>coding_homework_4.ipynb</code>.\n",
        "\n",
        "\n"
      ],
      "metadata": {
        "id": "t5mb_Iv37HhC"
      }
    },
    {
      "cell_type": "markdown",
      "source": [
        "### Jacob Lujanac\n",
        "*NEUR 265*\n",
        "\n",
        "**3/7/24**\n",
        "\n"
      ],
      "metadata": {
        "id": "9PylpxB3bhqL"
      }
    },
    {
      "cell_type": "code",
      "source": [
        "#2. Importing packages\n",
        "import pandas as pd\n",
        "\n",
        "from matplotlib import pyplot as plt\n",
        "\n",
        "import scipy.stats as stats"
      ],
      "metadata": {
        "id": "J8fRodqGbuzj"
      },
      "execution_count": 109,
      "outputs": []
    },
    {
      "cell_type": "code",
      "source": [
        "#3. Loading Data\n",
        "url = 'https://raw.githubusercontent.com/hallockh/neur_265/main/data/patch_seq_expanded.csv'\n",
        "\n",
        "patch_seq = pd.read_csv(url)"
      ],
      "metadata": {
        "id": "D__LqCaGdCIP"
      },
      "execution_count": 110,
      "outputs": []
    },
    {
      "cell_type": "code",
      "source": [
        "#4. Bar graph\n",
        "\n",
        "patch_seq_markers = patch_seq['Marker'].value_counts()\n",
        "patch_seq_markers.plot(kind='bar',xlabel='Marker',ylabel='Count')\n"
      ],
      "metadata": {
        "colab": {
          "base_uri": "https://localhost:8080/",
          "height": 490
        },
        "id": "oiSYaXfAo1LG",
        "outputId": "ddadb8b0-604d-441e-8285-7cb4216a9246"
      },
      "execution_count": 111,
      "outputs": [
        {
          "output_type": "execute_result",
          "data": {
            "text/plain": [
              "<Axes: xlabel='Marker', ylabel='Count'>"
            ]
          },
          "metadata": {},
          "execution_count": 111
        },
        {
          "output_type": "display_data",
          "data": {
            "text/plain": [
              "<Figure size 640x480 with 1 Axes>"
            ],
            "image/png": "[encoded data removed]"
          },
          "metadata": {}
        }
      ]
    },
    {
      "cell_type": "code",
      "source": [
        "#5. Pie graph\n",
        "patch_seq_markers.plot(kind='pie')\n"
      ],
      "metadata": {
        "colab": {
          "base_uri": "https://localhost:8080/",
          "height": 423
        },
        "id": "kXA7U1hDYGFo",
        "outputId": "6372f48f-aed1-4132-f8aa-e07180e755a5"
      },
      "execution_count": 112,
      "outputs": [
        {
          "output_type": "execute_result",
          "data": {
            "text/plain": [
              "<Axes: ylabel='Marker'>"
            ]
          },
          "metadata": {},
          "execution_count": 112
        },
        {
          "output_type": "display_data",
          "data": {
            "text/plain": [
              "<Figure size 640x480 with 1 Axes>"
            ],
            "image/png": "[encoded data removed]"
          },
          "metadata": {}
        }
      ]
    },
    {
      "cell_type": "code",
      "source": [
        "#6. Scatter plot\n",
        "\n",
        "for i in range(patch_seq.shape[0]):\n",
        "  if patch_seq.iloc[i,2]=='Sst':\n",
        "    colorValue = 'red'\n",
        "  else:\n",
        "    colorValue = 'blue'\n",
        "  plt.scatter(patch_seq.iloc[i,0],patch_seq.iloc[i,1],color=colorValue)\n",
        "  plt.xlabel('ISI (mS)')\n",
        "  plt.ylabel('Fast_Trough (mV)')\n",
        "\n",
        "\n"
      ],
      "metadata": {
        "colab": {
          "base_uri": "https://localhost:8080/",
          "height": 449
        },
        "id": "Vu0v60vZYVsI",
        "outputId": "e9c24311-bdfc-4fe0-ce8d-991578f7a025"
      },
      "execution_count": 113,
      "outputs": [
        {
          "output_type": "display_data",
          "data": {
            "text/plain": [
              "<Figure size 640x480 with 1 Axes>"
            ],
            "image/png": "[encoded data removed]"
          },
          "metadata": {}
        }
      ]
    },
    {
      "cell_type": "code",
      "source": [
        "#7. patchScatter() function\n",
        "def patchScatter():\n",
        "  for i in range(patch_seq.shape[0]):\n",
        "    if patch_seq.iloc[i,2]=='Sst':\n",
        "      colorValue = 'red'\n",
        "    else:\n",
        "      colorValue = 'blue'\n",
        "    plt.scatter(patch_seq.iloc[i,0],patch_seq.iloc[i,1],color=colorValue)\n",
        "    plt.xlabel('ISI (mS)')\n",
        "    plt.ylabel('Fast_Trough (mV)')\n",
        "    plt.show()"
      ],
      "metadata": {
        "id": "YWJ0HTVsciJM"
      },
      "execution_count": 114,
      "outputs": []
    },
    {
      "cell_type": "code",
      "source": [
        "#8. Mean, standard deviation, and range\n",
        "patch_seq.groupby('Marker')['Fast_Trough'].describe()"
      ],
      "metadata": {
        "colab": {
          "base_uri": "https://localhost:8080/",
          "height": 143
        },
        "id": "lDdb6XUudHDb",
        "outputId": "3172ceb2-d865-46b8-8a76-f7a6247fdb07"
      },
      "execution_count": 115,
      "outputs": [
        {
          "output_type": "execute_result",
          "data": {
            "text/plain": [
              "        count       mean       std        min        25%        50%  \\\n",
              "Marker                                                                \n",
              "Pvalb   256.0 -54.548074  5.870670 -76.687508 -57.914063 -54.490629   \n",
              "Sst     109.0 -52.514968  4.958103 -64.375008 -55.931252 -52.568752   \n",
              "\n",
              "              75%        max  \n",
              "Marker                        \n",
              "Pvalb  -51.364065 -30.406252  \n",
              "Sst    -48.500000 -40.781254  "
            ],
            "text/html": [
              "\n",
              "  <div id=\"df-55097f64-8fe5-455d-8391-5aa4db1901a7\" class=\"colab-df-container\">\n",
              "    <div>\n",
              "<style scoped>\n",
              "    .dataframe tbody tr th:only-of-type {\n",
              "        vertical-align: middle;\n",
              "    }\n",
              "\n",
              "    .dataframe tbody tr th {\n",
              "        vertical-align: top;\n",
              "    }\n",
              "\n",
              "    .dataframe thead th {\n",
              "        text-align: right;\n",
              "    }\n",
              "</style>\n",
              "<table border=\"1\" class=\"dataframe\">\n",
              "  <thead>\n",
              "    <tr style=\"text-align: right;\">\n",
              "      <th></th>\n",
              "      <th>count</th>\n",
              "      <th>mean</th>\n",
              "      <th>std</th>\n",
              "      <th>min</th>\n",
              "      <th>25%</th>\n",
              "      <th>50%</th>\n",
              "      <th>75%</th>\n",
              "      <th>max</th>\n",
              "    </tr>\n",
              "    <tr>\n",
              "      <th>Marker</th>\n",
              "      <th></th>\n",
              "      <th></th>\n",
              "      <th></th>\n",
              "      <th></th>\n",
              "      <th></th>\n",
              "      <th></th>\n",
              "      <th></th>\n",
              "      <th></th>\n",
              "    </tr>\n",
              "  </thead>\n",
              "  <tbody>\n",
              "    <tr>\n",
              "      <th>Pvalb</th>\n",
              "      <td>256.0</td>\n",
              "      <td>-54.548074</td>\n",
              "      <td>5.870670</td>\n",
              "      <td>-76.687508</td>\n",
              "      <td>-57.914063</td>\n",
              "      <td>-54.490629</td>\n",
              "      <td>-51.364065</td>\n",
              "      <td>-30.406252</td>\n",
              "    </tr>\n",
              "    <tr>\n",
              "      <th>Sst</th>\n",
              "      <td>109.0</td>\n",
              "      <td>-52.514968</td>\n",
              "      <td>4.958103</td>\n",
              "      <td>-64.375008</td>\n",
              "      <td>-55.931252</td>\n",
              "      <td>-52.568752</td>\n",
              "      <td>-48.500000</td>\n",
              "      <td>-40.781254</td>\n",
              "    </tr>\n",
              "  </tbody>\n",
              "</table>\n",
              "</div>\n",
              "    <div class=\"colab-df-buttons\">\n",
              "\n",
              "  <div class=\"colab-df-container\">\n",
              "    <button class=\"colab-df-convert\" onclick=\"convertToInteractive('df-55097f64-8fe5-455d-8391-5aa4db1901a7')\"\n",
              "            title=\"Convert this dataframe to an interactive table.\"\n",
              "            style=\"display:none;\">\n",
              "\n",
              "  <svg xmlns=\"http://www.w3.org/2000/svg\" height=\"24px\" viewBox=\"0 -960 960 960\">\n",
              "    <path d=\"M120-120v-720h720v720H120Zm60-500h600v-160H180v160Zm220 220h160v-160H400v160Zm0 220h160v-160H400v160ZM180-400h160v-160H180v160Zm440 0h160v-160H620v160ZM180-180h160v-160H180v160Zm440 0h160v-160H620v160Z\"/>\n",
              "  </svg>\n",
              "    </button>\n",
              "\n",
              "  <style>\n",
              "    .colab-df-container {\n",
              "      display:flex;\n",
              "      gap: 12px;\n",
              "    }\n",
              "\n",
              "    .colab-df-convert {\n",
              "      background-color: #E8F0FE;\n",
              "      border: none;\n",
              "      border-radius: 50%;\n",
              "      cursor: pointer;\n",
              "      display: none;\n",
              "      fill: #1967D2;\n",
              "      height: 32px;\n",
              "      padding: 0 0 0 0;\n",
              "      width: 32px;\n",
              "    }\n",
              "\n",
              "    .colab-df-convert:hover {\n",
              "      background-color: #E2EBFA;\n",
              "      box-shadow: 0px 1px 2px rgba(60, 64, 67, 0.3), 0px 1px 3px 1px rgba(60, 64, 67, 0.15);\n",
              "      fill: #174EA6;\n",
              "    }\n",
              "\n",
              "    .colab-df-buttons div {\n",
              "      margin-bottom: 4px;\n",
              "    }\n",
              "\n",
              "    [theme=dark] .colab-df-convert {\n",
              "      background-color: #3B4455;\n",
              "      fill: #D2E3FC;\n",
              "    }\n",
              "\n",
              "    [theme=dark] .colab-df-convert:hover {\n",
              "      background-color: #434B5C;\n",
              "      box-shadow: 0px 1px 3px 1px rgba(0, 0, 0, 0.15);\n",
              "      filter: drop-shadow(0px 1px 2px rgba(0, 0, 0, 0.3));\n",
              "      fill: #FFFFFF;\n",
              "    }\n",
              "  </style>\n",
              "\n",
              "    <script>\n",
              "      const buttonEl =\n",
              "        document.querySelector('#df-55097f64-8fe5-455d-8391-5aa4db1901a7 button.colab-df-convert');\n",
              "      buttonEl.style.display =\n",
              "        google.colab.kernel.accessAllowed ? 'block' : 'none';\n",
              "\n",
              "      async function convertToInteractive(key) {\n",
              "        const element = document.querySelector('#df-55097f64-8fe5-455d-8391-5aa4db1901a7');\n",
              "        const dataTable =\n",
              "          await google.colab.kernel.invokeFunction('convertToInteractive',\n",
              "                                                    [key], {});\n",
              "        if (!dataTable) return;\n",
              "\n",
              "        const docLinkHtml = 'Like what you see? Visit the ' +\n",
              "          '<a target=\"_blank\" href=https://colab.research.google.com/notebooks/data_table.ipynb>data table notebook</a>'\n",
              "          + ' to learn more about interactive tables.';\n",
              "        element.innerHTML = '';\n",
              "        dataTable['output_type'] = 'display_data';\n",
              "        await google.colab.output.renderOutput(dataTable, element);\n",
              "        const docLink = document.createElement('div');\n",
              "        docLink.innerHTML = docLinkHtml;\n",
              "        element.appendChild(docLink);\n",
              "      }\n",
              "    </script>\n",
              "  </div>\n",
              "\n",
              "\n",
              "<div id=\"df-16218886-6ddc-4af3-a3a5-be76d861c4b2\">\n",
              "  <button class=\"colab-df-quickchart\" onclick=\"quickchart('df-16218886-6ddc-4af3-a3a5-be76d861c4b2')\"\n",
              "            title=\"Suggest charts\"\n",
              "            style=\"display:none;\">\n",
              "\n",
              "<svg xmlns=\"http://www.w3.org/2000/svg\" height=\"24px\"viewBox=\"0 0 24 24\"\n",
              "     width=\"24px\">\n",
              "    <g>\n",
              "        <path d=\"M19 3H5c-1.1 0-2 .9-2 2v14c0 1.1.9 2 2 2h14c1.1 0 2-.9 2-2V5c0-1.1-.9-2-2-2zM9 17H7v-7h2v7zm4 0h-2V7h2v10zm4 0h-2v-4h2v4z\"/>\n",
              "    </g>\n",
              "</svg>\n",
              "  </button>\n",
              "\n",
              "<style>\n",
              "  .colab-df-quickchart {\n",
              "      --bg-color: #E8F0FE;\n",
              "      --fill-color: #1967D2;\n",
              "      --hover-bg-color: #E2EBFA;\n",
              "      --hover-fill-color: #174EA6;\n",
              "      --disabled-fill-color: #AAA;\n",
              "      --disabled-bg-color: #DDD;\n",
              "  }\n",
              "\n",
              "  [theme=dark] .colab-df-quickchart {\n",
              "      --bg-color: #3B4455;\n",
              "      --fill-color: #D2E3FC;\n",
              "      --hover-bg-color: #434B5C;\n",
              "      --hover-fill-color: #FFFFFF;\n",
              "      --disabled-bg-color: #3B4455;\n",
              "      --disabled-fill-color: #666;\n",
              "  }\n",
              "\n",
              "  .colab-df-quickchart {\n",
              "    background-color: var(--bg-color);\n",
              "    border: none;\n",
              "    border-radius: 50%;\n",
              "    cursor: pointer;\n",
              "    display: none;\n",
              "    fill: var(--fill-color);\n",
              "    height: 32px;\n",
              "    padding: 0;\n",
              "    width: 32px;\n",
              "  }\n",
              "\n",
              "  .colab-df-quickchart:hover {\n",
              "    background-color: var(--hover-bg-color);\n",
              "    box-shadow: 0 1px 2px rgba(60, 64, 67, 0.3), 0 1px 3px 1px rgba(60, 64, 67, 0.15);\n",
              "    fill: var(--button-hover-fill-color);\n",
              "  }\n",
              "\n",
              "  .colab-df-quickchart-complete:disabled,\n",
              "  .colab-df-quickchart-complete:disabled:hover {\n",
              "    background-color: var(--disabled-bg-color);\n",
              "    fill: var(--disabled-fill-color);\n",
              "    box-shadow: none;\n",
              "  }\n",
              "\n",
              "  .colab-df-spinner {\n",
              "    border: 2px solid var(--fill-color);\n",
              "    border-color: transparent;\n",
              "    border-bottom-color: var(--fill-color);\n",
              "    animation:\n",
              "      spin 1s steps(1) infinite;\n",
              "  }\n",
              "\n",
              "  @keyframes spin {\n",
              "    0% {\n",
              "      border-color: transparent;\n",
              "      border-bottom-color: var(--fill-color);\n",
              "      border-left-color: var(--fill-color);\n",
              "    }\n",
              "    20% {\n",
              "      border-color: transparent;\n",
              "      border-left-color: var(--fill-color);\n",
              "      border-top-color: var(--fill-color);\n",
              "    }\n",
              "    30% {\n",
              "      border-color: transparent;\n",
              "      border-left-color: var(--fill-color);\n",
              "      border-top-color: var(--fill-color);\n",
              "      border-right-color: var(--fill-color);\n",
              "    }\n",
              "    40% {\n",
              "      border-color: transparent;\n",
              "      border-right-color: var(--fill-color);\n",
              "      border-top-color: var(--fill-color);\n",
              "    }\n",
              "    60% {\n",
              "      border-color: transparent;\n",
              "      border-right-color: var(--fill-color);\n",
              "    }\n",
              "    80% {\n",
              "      border-color: transparent;\n",
              "      border-right-color: var(--fill-color);\n",
              "      border-bottom-color: var(--fill-color);\n",
              "    }\n",
              "    90% {\n",
              "      border-color: transparent;\n",
              "      border-bottom-color: var(--fill-color);\n",
              "    }\n",
              "  }\n",
              "</style>\n",
              "\n",
              "  <script>\n",
              "    async function quickchart(key) {\n",
              "      const quickchartButtonEl =\n",
              "        document.querySelector('#' + key + ' button');\n",
              "      quickchartButtonEl.disabled = true;  // To prevent multiple clicks.\n",
              "      quickchartButtonEl.classList.add('colab-df-spinner');\n",
              "      try {\n",
              "        const charts = await google.colab.kernel.invokeFunction(\n",
              "            'suggestCharts', [key], {});\n",
              "      } catch (error) {\n",
              "        console.error('Error during call to suggestCharts:', error);\n",
              "      }\n",
              "      quickchartButtonEl.classList.remove('colab-df-spinner');\n",
              "      quickchartButtonEl.classList.add('colab-df-quickchart-complete');\n",
              "    }\n",
              "    (() => {\n",
              "      let quickchartButtonEl =\n",
              "        document.querySelector('#df-16218886-6ddc-4af3-a3a5-be76d861c4b2 button');\n",
              "      quickchartButtonEl.style.display =\n",
              "        google.colab.kernel.accessAllowed ? 'block' : 'none';\n",
              "    })();\n",
              "  </script>\n",
              "</div>\n",
              "    </div>\n",
              "  </div>\n"
            ],
            "application/vnd.google.colaboratory.intrinsic+json": {
              "type": "dataframe",
              "summary": "{\n  \"name\": \"patch_seq\",\n  \"rows\": 2,\n  \"fields\": [\n    {\n      \"column\": \"Marker\",\n      \"properties\": {\n        \"dtype\": \"string\",\n        \"num_unique_values\": 2,\n        \"samples\": [\n          \"Sst\",\n          \"Pvalb\"\n        ],\n        \"semantic_type\": \"\",\n        \"description\": \"\"\n      }\n    },\n    {\n      \"column\": \"count\",\n      \"properties\": {\n        \"dtype\": \"number\",\n        \"std\": 103.94469683442249,\n        \"min\": 109.0,\n        \"max\": 256.0,\n        \"num_unique_values\": 2,\n        \"samples\": [\n          109.0,\n          256.0\n        ],\n        \"semantic_type\": \"\",\n        \"description\": \"\"\n      }\n    },\n    {\n      \"column\": \"mean\",\n      \"properties\": {\n        \"dtype\": \"number\",\n        \"std\": 1.4376230399307475,\n        \"min\": -54.54807350679687,\n        \"max\": -52.51496750614677,\n        \"num_unique_values\": 2,\n        \"samples\": [\n          -52.51496750614677,\n          -54.54807350679687\n        ],\n        \"semantic_type\": \"\",\n        \"description\": \"\"\n      }\n    },\n    {\n      \"column\": \"std\",\n      \"properties\": {\n        \"dtype\": \"number\",\n        \"std\": 0.6452827573169477,\n        \"min\": 4.958102653000737,\n        \"max\": 5.870670279963871,\n        \"num_unique_values\": 2,\n        \"samples\": [\n          4.958102653000737,\n          5.870670279963871\n        ],\n        \"semantic_type\": \"\",\n        \"description\": \"\"\n      }\n    },\n    {\n      \"column\": \"min\",\n      \"properties\": {\n        \"dtype\": \"number\",\n        \"std\": 8.706252243359366,\n        \"min\": -76.68750763,\n        \"max\": -64.37500763,\n        \"num_unique_values\": 2,\n        \"samples\": [\n          -64.37500763,\n          -76.68750763\n        ],\n        \"semantic_type\": \"\",\n        \"description\": \"\"\n      }\n    },\n    {\n      \"column\": \"25%\",\n      \"properties\": {\n        \"dtype\": \"number\",\n        \"std\": 1.4020597562172887,\n        \"min\": -57.9140634525,\n        \"max\": -55.93125153,\n        \"num_unique_values\": 2,\n        \"samples\": [\n          -55.93125153,\n          -57.9140634525\n        ],\n        \"semantic_type\": \"\",\n        \"description\": \"\"\n      }\n    },\n    {\n      \"column\": \"50%\",\n      \"properties\": {\n        \"dtype\": \"number\",\n        \"std\": 1.3589721921313125,\n        \"min\": -54.490629195,\n        \"max\": -52.56875229,\n        \"num_unique_values\": 2,\n        \"samples\": [\n          -52.56875229,\n          -54.490629195\n        ],\n        \"semantic_type\": \"\",\n        \"description\": \"\"\n      }\n    },\n    {\n      \"column\": \"75%\",\n      \"properties\": {\n        \"dtype\": \"number\",\n        \"std\": 2.0251999034672044,\n        \"min\": -51.36406517,\n        \"max\": -48.5,\n        \"num_unique_values\": 2,\n        \"samples\": [\n          -48.5,\n          -51.36406517\n        ],\n        \"semantic_type\": \"\",\n        \"description\": \"\"\n      }\n    },\n    {\n      \"column\": \"max\",\n      \"properties\": {\n        \"dtype\": \"number\",\n        \"std\": 7.336234198313315,\n        \"min\": -40.78125381,\n        \"max\": -30.40625191,\n        \"num_unique_values\": 2,\n        \"samples\": [\n          -40.78125381,\n          -30.40625191\n        ],\n        \"semantic_type\": \"\",\n        \"description\": \"\"\n      }\n    }\n  ]\n}"
            }
          },
          "metadata": {},
          "execution_count": 115
        }
      ]
    },
    {
      "cell_type": "markdown",
      "source": [
        "#9. Difference in means\n",
        "\n",
        "Pvalb has a more negative undershoot following an action potential as its mean is lower"
      ],
      "metadata": {
        "id": "QmiIvBrEgVRQ"
      }
    },
    {
      "cell_type": "code",
      "source": [
        "#10. Skewness of Fast Trough\n",
        "patch_seq.groupby('Marker')['Fast_Trough'].skew()"
      ],
      "metadata": {
        "colab": {
          "base_uri": "https://localhost:8080/"
        },
        "id": "e5s2WdoYg8zz",
        "outputId": "acf8d05d-dea7-47f3-de01-a7bc58300307"
      },
      "execution_count": 116,
      "outputs": [
        {
          "output_type": "execute_result",
          "data": {
            "text/plain": [
              "Marker\n",
              "Pvalb    0.19536\n",
              "Sst      0.00125\n",
              "Name: Fast_Trough, dtype: float64"
            ]
          },
          "metadata": {},
          "execution_count": 116
        }
      ]
    },
    {
      "cell_type": "markdown",
      "source": [
        "#11. Fast Trough skewness results interpretation\n",
        "Pvalb and Sst both display a normal distribution as their skewness values are 0.195 and 0.001 respectively, both which are less than 0.5. Since Sst's is larger however, that means it is more skewed."
      ],
      "metadata": {
        "id": "oMqN20h0hQ60"
      }
    },
    {
      "cell_type": "code",
      "source": [
        "#12. Skewness of ISI\n",
        "patch_seq.groupby('Marker')['ISI'].skew()"
      ],
      "metadata": {
        "colab": {
          "base_uri": "https://localhost:8080/"
        },
        "id": "p7TI5qegiI7-",
        "outputId": "fcf975cd-7703-43c9-c956-1b70eed9de94"
      },
      "execution_count": 117,
      "outputs": [
        {
          "output_type": "execute_result",
          "data": {
            "text/plain": [
              "Marker\n",
              "Pvalb    5.596386\n",
              "Sst      1.857850\n",
              "Name: ISI, dtype: float64"
            ]
          },
          "metadata": {},
          "execution_count": 117
        }
      ]
    },
    {
      "cell_type": "markdown",
      "source": [
        "#13. ISI skewness results interpretation\n",
        "# Pvalb and Sst both display a skewed distribution as their skewness values are 5.59 and 1.85 respectively, both which are greaters than 0.5. Since Pvalb's is larger however, that means it is more skewed."
      ],
      "metadata": {
        "id": "h-ZChAxSiVBi"
      }
    },
    {
      "cell_type": "code",
      "source": [
        "#14. Fast Trough t-test\n",
        "sst_neurons = patch_seq[patch_seq['Marker']=='Sst']\n",
        "pvalb_neurons = patch_seq[patch_seq['Marker']=='Pvalb']\n",
        "\n",
        "stats.ttest_ind(sst_neurons['Fast_Trough'], pvalb_neurons['Fast_Trough'])\n"
      ],
      "metadata": {
        "colab": {
          "base_uri": "https://localhost:8080/"
        },
        "id": "7wEPGHf9i79W",
        "outputId": "753b0a7f-e0d0-4cef-8914-25b344d0b77c"
      },
      "execution_count": 129,
      "outputs": [
        {
          "output_type": "execute_result",
          "data": {
            "text/plain": [
              "109    22.306667\n",
              "110    19.047500\n",
              "111    12.510633\n",
              "112    27.172000\n",
              "113    24.853158\n",
              "         ...    \n",
              "360    11.052333\n",
              "361     8.860360\n",
              "362     9.192897\n",
              "363    10.544731\n",
              "364    16.396364\n",
              "Name: ISI, Length: 256, dtype: float64"
            ]
          },
          "metadata": {},
          "execution_count": 129
        }
      ]
    },
    {
      "cell_type": "markdown",
      "source": [
        "#15. Fast Trough t-test analysis\n",
        "\n",
        "The undershoot voltage does differ signficantly, as the p-value =0.0016 < 0.05\n"
      ],
      "metadata": {
        "id": "ahTmf9KrnbpC"
      }
    },
    {
      "cell_type": "code",
      "source": [
        "#16. ISI t-test\n",
        "\n",
        "pvalb_neurons = pvalb_neurons.dropna()\n",
        "stats.ttest_ind(sst_neurons['ISI'], pvalb_neurons['ISI'])\n"
      ],
      "metadata": {
        "colab": {
          "base_uri": "https://localhost:8080/"
        },
        "id": "KIGUuny9nxWE",
        "outputId": "13cad602-9ce4-40a5-ef39-53b50eb0f1ce"
      },
      "execution_count": 130,
      "outputs": [
        {
          "output_type": "execute_result",
          "data": {
            "text/plain": [
              "TtestResult(statistic=14.643966775010774, pvalue=2.694292788633572e-38, df=354.0)"
            ]
          },
          "metadata": {},
          "execution_count": 130
        }
      ]
    },
    {
      "cell_type": "markdown",
      "source": [
        "#17. ISI t-test analysis\n",
        "\n",
        "The interspike intervals are not statistcally signficant, as the p-value=2.69 > 0.05"
      ],
      "metadata": {
        "id": "xRo2Ghhfrr4W"
      }
    }
  ]
}